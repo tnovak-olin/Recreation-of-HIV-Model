{
 "cells": [
  {
   "cell_type": "markdown",
   "metadata": {},
   "source": [
    "# HIV MODEL\n",
    "Timothy Novak\n",
    "\n",
    "Modeling and Simulation\n",
    "\n",
    "October 2018"
   ]
  },
  {
   "cell_type": "markdown",
   "metadata": {},
   "source": [
    "This model recreates the HIV model described in the article Reduction of HIV Concentration During Acute Infection: Independience from a Specific Immune Response"
   ]
  },
  {
   "cell_type": "code",
   "execution_count": 1,
   "metadata": {},
   "outputs": [],
   "source": [
    "# Configure Jupyter so figures appear in the notebook\n",
    "%matplotlib inline\n",
    "\n",
    "# Configure Jupyter to display the assigned value after an assignment\n",
    "%config InteractiveShell.ast_node_interactivity='last_expr_or_assign'\n",
    "\n",
    "# import functions from the modsim.py module\n",
    "from modsim import *\n"
   ]
  },
  {
   "cell_type": "markdown",
   "metadata": {},
   "source": [
    "The above code imports the modeling and simulation library and configures the jupyter notebook"
   ]
  },
  {
   "cell_type": "markdown",
   "metadata": {},
   "source": [
    "## State\n",
    "This code creates a structure which contains the curent state of the model. The model uses three main stocks: Uninfected cells are born and die naturally however they can also transition to latently or actively infected cells. Latently infected cells can either die by natural cell death or transition to actively infected cells. Actively infectecd cells can die, but they also produce more free virons. Free virons are created at a variable rate dependent on the number of active cells and they are removed by the immune system at a constant rate. Free virons also influence the rate of cells becoming infected cells."
   ]
  },
  {
   "cell_type": "code",
   "execution_count": 2,
   "metadata": {},
   "outputs": [
    {
     "data": {
      "text/html": [
       "<div>\n",
       "<style scoped>\n",
       "    .dataframe tbody tr th:only-of-type {\n",
       "        vertical-align: middle;\n",
       "    }\n",
       "\n",
       "    .dataframe tbody tr th {\n",
       "        vertical-align: top;\n",
       "    }\n",
       "\n",
       "    .dataframe thead th {\n",
       "        text-align: right;\n",
       "    }\n",
       "</style>\n",
       "<table border=\"1\" class=\"dataframe\">\n",
       "  <thead>\n",
       "    <tr style=\"text-align: right;\">\n",
       "      <th></th>\n",
       "      <th>values</th>\n",
       "    </tr>\n",
       "  </thead>\n",
       "  <tbody>\n",
       "    <tr>\n",
       "      <th>uninfected</th>\n",
       "      <td>1000</td>\n",
       "    </tr>\n",
       "    <tr>\n",
       "      <th>latently_infected</th>\n",
       "      <td>0</td>\n",
       "    </tr>\n",
       "    <tr>\n",
       "      <th>actively_infected</th>\n",
       "      <td>0</td>\n",
       "    </tr>\n",
       "    <tr>\n",
       "      <th>free_virons</th>\n",
       "      <td>100</td>\n",
       "    </tr>\n",
       "  </tbody>\n",
       "</table>\n",
       "</div>"
      ],
      "text/plain": [
       "uninfected           1000\n",
       "latently_infected       0\n",
       "actively_infected       0\n",
       "free_virons           100\n",
       "dtype: int64"
      ]
     },
     "execution_count": 2,
     "metadata": {},
     "output_type": "execute_result"
    }
   ],
   "source": [
    "#state variable  which innitializes the innitial \n",
    "st8 = State(uninfected = 1000, latently_infected = 0, actively_infected = 0, free_virons = 100)"
   ]
  },
  {
   "cell_type": "markdown",
   "metadata": {},
   "source": [
    "## System\n",
    "This code creates a structure which holds the model parameters such as natural propagation rates."
   ]
  },
  {
   "cell_type": "code",
   "execution_count": 3,
   "metadata": {},
   "outputs": [
    {
     "data": {
      "text/html": [
       "<div>\n",
       "<style scoped>\n",
       "    .dataframe tbody tr th:only-of-type {\n",
       "        vertical-align: middle;\n",
       "    }\n",
       "\n",
       "    .dataframe tbody tr th {\n",
       "        vertical-align: top;\n",
       "    }\n",
       "\n",
       "    .dataframe thead th {\n",
       "        text-align: right;\n",
       "    }\n",
       "</style>\n",
       "<table border=\"1\" class=\"dataframe\">\n",
       "  <thead>\n",
       "    <tr style=\"text-align: right;\">\n",
       "      <th></th>\n",
       "      <th>values</th>\n",
       "    </tr>\n",
       "  </thead>\n",
       "  <tbody>\n",
       "    <tr>\n",
       "      <th>Tt</th>\n",
       "      <td>0.27200</td>\n",
       "    </tr>\n",
       "    <tr>\n",
       "      <th>indp_death_r8</th>\n",
       "      <td>0.00136</td>\n",
       "    </tr>\n",
       "    <tr>\n",
       "      <th>inft_r8</th>\n",
       "      <td>0.00027</td>\n",
       "    </tr>\n",
       "    <tr>\n",
       "      <th>prop_latent</th>\n",
       "      <td>0.10000</td>\n",
       "    </tr>\n",
       "    <tr>\n",
       "      <th>activ_r8</th>\n",
       "      <td>0.03600</td>\n",
       "    </tr>\n",
       "    <tr>\n",
       "      <th>inf_death_r8</th>\n",
       "      <td>0.33000</td>\n",
       "    </tr>\n",
       "    <tr>\n",
       "      <th>vir_rem_r8</th>\n",
       "      <td>2.00000</td>\n",
       "    </tr>\n",
       "    <tr>\n",
       "      <th>vir_per_active</th>\n",
       "      <td>100.00000</td>\n",
       "    </tr>\n",
       "  </tbody>\n",
       "</table>\n",
       "</div>"
      ],
      "text/plain": [
       "Tt                  0.27200\n",
       "indp_death_r8       0.00136\n",
       "inft_r8             0.00027\n",
       "prop_latent         0.10000\n",
       "activ_r8            0.03600\n",
       "inf_death_r8        0.33000\n",
       "vir_rem_r8          2.00000\n",
       "vir_per_active    100.00000\n",
       "dtype: float64"
      ]
     },
     "execution_count": 3,
     "metadata": {},
     "output_type": "execute_result"
    }
   ],
   "source": [
    "#makes a system which holds all the constant values\n",
    "sys = System(Tt = .272, indp_death_r8 = 1.36*10**(-3), inft_r8 = .00027, prop_latent = .1, activ_r8 = 3.6*10**(-2), inf_death_r8 = .33,vir_rem_r8 = 2, vir_per_active = 100)"
   ]
  },
  {
   "cell_type": "markdown",
   "metadata": {},
   "source": [
    "## Update Function\n",
    "This function updates the value of the state object by computing the new values based on the differential equations describing changes in the stocks. "
   ]
  },
  {
   "cell_type": "code",
   "execution_count": 4,
   "metadata": {},
   "outputs": [],
   "source": [
    "def upd8_func (st8,sys):\n",
    "    \"\"\"function which performs one update of an HIV model and returns the result\n",
    "    it takes a system and a state as arguments\"\"\"\n",
    "    #translating the diff eq's into code\n",
    "    delta_uninif = sys.Tt - sys.indp_death_r8 * st8.uninfected - sys.inft_r8*st8.uninfected*st8.free_virons\n",
    "    delta_latent = sys.prop_latent*sys.inft_r8*st8.uninfected*st8.free_virons - sys.indp_death_r8*st8.latently_infected - sys.activ_r8*st8.latently_infected\n",
    "    delta_active = (1-sys.prop_latent)*sys.inft_r8*st8.uninfected*st8.free_virons + sys.activ_r8*st8.latently_infected - sys.inf_death_r8*st8.actively_infected\n",
    "    delta_viron = sys.vir_per_active*st8.actively_infected - sys.vir_rem_r8 * st8.free_virons\n",
    "    \n",
    "    #update the state variables\n",
    "    st8.uninfected += delta_uninif * sys.dt\n",
    "    st8.latently_infected += delta_latent * sys.dt\n",
    "    st8.actively_infected += delta_active * sys.dt\n",
    "    st8.free_virons += delta_viron * sys.dt\n",
    "    \n",
    "    return State(uninfected = st8.uninfected, latently_infected = st8.latently_infected, actively_infected = st8.actively_infected,free_virons = st8.free_virons)"
   ]
  },
  {
   "cell_type": "markdown",
   "metadata": {},
   "source": [
    "## Run Simulation\n",
    "This code runs an entire simulation of the HIV model based on inital parameters and a number of time steps to simulate. The function returns a datastructure containing the states of the stocks through time."
   ]
  },
  {
   "cell_type": "code",
   "execution_count": 5,
   "metadata": {},
   "outputs": [],
   "source": [
    "def run_sim(init_uninif, init_lat,init_act,Init_vir, tot_time, upd8_func, dt):\n",
    "    \"\"\"A function which runs a simulation of an HIV model \"\"\"\n",
    "   #makes a system which holds all the constant values\n",
    "    sys = System(Tt = .272, indp_death_r8 = 1.36*10**(-3), inft_r8 = .00027, prop_latent = .1, activ_r8 = 3.6*10**(-2), inf_death_r8 = .33,vir_rem_r8 = 2, vir_per_active = 100, dt = dt)\n",
    "    #state variable  which innitializes the innitial \n",
    "    st8 = State(uninfected = init_uninif, latently_infected = init_lat, actively_infected = init_act, free_virons = Init_vir)\n",
    "    \n",
    "    results = TimeFrame(columns=st8.index)\n",
    "    \n",
    "    for t in range(tot_time):\n",
    "        results.row[t] = upd8_func(st8,sys)\n",
    "    return results\n"
   ]
  },
  {
   "cell_type": "markdown",
   "metadata": {},
   "source": [
    "## Results\n",
    "This code generates some graphs of the behaviors of the various stocks through time."
   ]
  },
  {
   "cell_type": "code",
   "execution_count": 6,
   "metadata": {},
   "outputs": [
    {
     "data": {
      "image/png": "[encoded data removed]",
      "text/plain": [
       "<Figure size 432x288 with 1 Axes>"
      ]
     },
     "metadata": {},
     "output_type": "display_data"
    }
   ],
   "source": [
    "results = run_sim(1000,0,0,100,200,upd8_func,.1)\n",
    "plot(results.uninfected, '*', label=\"uninfected cells\")\n",
    "plot(results.latently_infected, 'o', label=\"latently infected cells\")\n",
    "plot(results.actively_infected, 'x', label=\"actively infected cells\")\n",
    "#plot(results.free_virons, '+', label=\"free virons\")\n",
    "decorate(xlabel = \"time\", ylabel = \"population\")"
   ]
  },
  {
   "cell_type": "markdown",
   "metadata": {},
   "source": [
    "This graph descrivbes the behaviors of the various types of cells."
   ]
  },
  {
   "cell_type": "code",
   "execution_count": 7,
   "metadata": {},
   "outputs": [
    {
     "data": {
      "image/png": "[encoded data removed]",
      "text/plain": [
       "<Figure size 432x288 with 1 Axes>"
      ]
     },
     "metadata": {},
     "output_type": "display_data"
    }
   ],
   "source": [
    "plot(results.free_virons, '+', label=\"free virons\")\n",
    "decorate(xlabel = \"time\", ylabel = \"population\")"
   ]
  },
  {
   "cell_type": "markdown",
   "metadata": {},
   "source": [
    "This graph describes the bahavior of the free virons. This bahavior was much larger than that of the natural cells and so it was graphed seperately.These graphs mimic the bahavor shown in the model of the paper however some of the constants in this implementation are not exactly the same as those used in the paper so the precise values are different."
   ]
  }
 ],
 "metadata": {
  "kernelspec": {
   "display_name": "Python 3",
   "language": "python",
   "name": "python3"
  },
  "language_info": {
   "codemirror_mode": {
    "name": "ipython",
    "version": 3
   },
   "file_extension": ".py",
   "mimetype": "text/x-python",
   "name": "python",
   "nbconvert_exporter": "python",
   "pygments_lexer": "ipython3",
   "version": "3.6.6"
  }
 },
 "nbformat": 4,
 "nbformat_minor": 2
}
